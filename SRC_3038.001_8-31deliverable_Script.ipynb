{
 "cells": [
  {
   "cell_type": "code",
   "execution_count": 2,
   "metadata": {},
   "outputs": [],
   "source": [
    "import os\n",
    "import fnmatch\n",
    "import re"
   ]
  },
  {
   "cell_type": "code",
   "execution_count": 3,
   "metadata": {},
   "outputs": [],
   "source": [
    "path = '/SRC_Hazard_Ranking/ligand/'\n",
    "files_list = os.listdir(path)"
   ]
  },
  {
   "cell_type": "code",
   "execution_count": null,
   "metadata": {},
   "outputs": [],
   "source": [
    "# Molecular docking of LFABP and ligands\n",
    "for f_str in files_list:\n",
    "    if f_str.endswith('.pdbqt'):\n",
    "        f_name = f_str.split('.')[0] # f_name is name.pdbqt removing .pdbqt\n",
    "        command = \"/SRC_Hazard_Ranking/vina \"\n",
    "        receptor = \"--receptor \" + \"/SRC_Hazard_Ranking/protein/3stm_clean.pdbqt \"\n",
    "        ligand = \"--ligand \" + \"/SRC_Hazard_Ranking/ligand/\" + str(f_name) + \".pdbqt \"\n",
    "        center_x = \"--center_x 6.819 \"\n",
    "        center_y = \"--center_y -8.343 \"\n",
    "        center_z = \"--center_z -16.497 \"\n",
    "        size_x = \"--size_x 30 \"\n",
    "        size_y = \"--size_y 34 \"\n",
    "        size_z = \"--size_z 40 \"\n",
    "        exhaustiveness = \"--exhaustiveness 64 \"\n",
    "\n",
    "        out = \"--out \" + \"/SRC_Hazard_Ranking/3stm_output/\" + str(f_name) + \"_3stm.pdbqt \"\n",
    "        log = \"--log \" + \"/SRC_Hazard_Ranking/3stm_output/\" + str(f_name) + \"_3stm.log \"\n",
    "\n",
    "        command_total = command + receptor + ligand + center_x + center_y +  center_z + size_x + size_y + size_z + out + log\n",
    "        print(command_total)\n",
    "        os.system(command_total)"
   ]
  },
  {
   "cell_type": "code",
   "execution_count": null,
   "metadata": {},
   "outputs": [],
   "source": [
    "# Molecular docking of PPAR alpha and ligands\n",
    "for f_str in files_list:\n",
    "    if f_str.endswith('.pdbqt'):\n",
    "        f_name = f_str.split('.')[0] # f_name is name.pdbqt removing .pdbqt\n",
    "        command = \"SRC_Hazard_Ranking/vina \"\n",
    "        receptor = \"--receptor \" + \"/SRC_Hazard_Ranking/protein/2znn_clean.pdbqt \"\n",
    "        ligand = \"--ligand \" + \"/SRC_Hazard_Ranking/ligand/\" + str(f_name) + \".pdbqt \"\n",
    "        center_x = \"--center_x 5.791 \"\n",
    "        center_y = \"--center_y 1.475 \"\n",
    "        center_z = \"--center_z 1.463 \"\n",
    "        size_x = \"--size_x 52 \"\n",
    "        size_y = \"--size_y 40 \"\n",
    "        size_z = \"--size_z 60 \"\n",
    "        exhaustiveness = \"--exhaustiveness 64 \"\n",
    "\n",
    "        out = \"--out \" + \"/SRC_Hazard_Ranking/2znn_output/\" + str(f_name) + \"_2znn.pdbqt \"\n",
    "        log = \"--log \" + \"/SRC_Hazard_Ranking/2znn_output/\" + str(f_name) + \"_2znn.log \"\n",
    "\n",
    "        command_total = command + receptor + ligand + center_x + center_y +  center_z + size_x + size_y + size_z + out + log\n",
    "        print(command_total)\n",
    "        os.system(command_total)"
   ]
  },
  {
   "cell_type": "code",
   "execution_count": null,
   "metadata": {},
   "outputs": [],
   "source": [
    "# Molecular docking of TTR and ligands\n",
    "for f_str in files_list:\n",
    "    if f_str.endswith('.pdbqt'):\n",
    "        f_name = f_str.split('.')[0] # f_name is name.pdbqt removing .pdbqt\n",
    "        command = \"/SRC_Hazard_Ranking/vina \"\n",
    "        receptor = \"--receptor \" + \"/SRC_Hazard_Ranking/protein/4tlt_clean.pdbqt \"\n",
    "        ligand = \"--ligand \" + \"/SRC_Hazard_Ranking/ligand/\" + str(f_name) + \".pdbqt \"\n",
    "        center_x = \"--center_x 1.18 \"\n",
    "        center_y = \"--center_y 14.264 \"\n",
    "        center_z = \"--center_z 78.233 \"\n",
    "        size_x = \"--size_x 44 \"\n",
    "        size_y = \"--size_y 40 \"\n",
    "        size_z = \"--size_z 54 \"\n",
    "        exhaustiveness = \"--exhaustiveness 64 \"\n",
    "\n",
    "        out = \"--out \" + \"/SRC_Hazard_Ranking/4tlt_output/\" + str(f_name) + \"_4tlt.pdbqt \"\n",
    "        log = \"--log \" + \"/SRC_Hazard_Ranking/4tlt_output/\" + str(f_name) + \"_4tlt.log \"\n",
    "\n",
    "        command_total = command + receptor + ligand + center_x + center_y +  center_z + size_x + size_y + size_z + out + log\n",
    "        print(command_total)\n",
    "        os.system(command_total)"
   ]
  },
  {
   "cell_type": "code",
   "execution_count": null,
   "metadata": {},
   "outputs": [],
   "source": [
    "# Export all binding affinity data\n",
    "f1=open('PFAS_4tlt_Binding.txt', 'w')\n",
    "basedir = '/SRC_Hazard_Ranking/4tlt_output/'\n",
    "for name in os.listdir(basedir):\n",
    "    if name.endswith('.log'):\n",
    "        filedir = basedir + name\n",
    "        print(filedir)\n",
    "        stuff = open(filedir, 'r')\n",
    "        namestuff = filedir\n",
    "        x_list = []\n",
    "        for line in stuff:\n",
    "            line.rstrip()\n",
    "            x = re.findall('^\\s+1\\s+(-[0-9.]+)', line)\n",
    "            if len(x) > 0:\n",
    "                print(x)\n",
    "                x_list = x_list + x\n",
    "            x = re.findall('^\\s+2\\s+(-[0-9.]+)', line)\n",
    "            if len(x) > 0:\n",
    "                x_list = x_list + x\n",
    "            x = re.findall('^\\s+3\\s+(-[0-9.]+)', line)\n",
    "            if len(x) > 0:\n",
    "                x_list = x_list + x\n",
    "        f1.write(namestuff + '\\t' + ' '.join(x_list) + '\\n')\n",
    "        stuff.close()\n",
    "\n",
    "f1.close()"
   ]
  }
 ],
 "metadata": {
  "kernelspec": {
   "display_name": "Python 3",
   "language": "python",
   "name": "python3"
  },
  "language_info": {
   "codemirror_mode": {
    "name": "ipython",
    "version": 3
   },
   "file_extension": ".py",
   "mimetype": "text/x-python",
   "name": "python",
   "nbconvert_exporter": "python",
   "pygments_lexer": "ipython3",
   "version": "3.8.3"
  }
 },
 "nbformat": 4,
 "nbformat_minor": 4
}
